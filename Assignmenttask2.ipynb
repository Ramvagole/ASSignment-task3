{
 "cells": [
  {
   "cell_type": "code",
   "execution_count": null,
   "id": "a2d965e2-5706-4638-ac47-f27da47f9c3b",
   "metadata": {},
   "outputs": [],
   "source": [
    "#Q1):-\n",
    "ucl,lcl,number,specchar=0,0,0,0\n",
    "def password(s):\n",
    "    if len(s) > 10:\n",
    "        for i in s:\n",
    "            if i.isupper():\n",
    "                global ucl\n",
    "                ucl += 1\n",
    "            if i.islower():\n",
    "                global lcl\n",
    "                lcl += 1\n",
    "            if i.isdigit():\n",
    "                global number\n",
    "                number += 1\n",
    "            if (i == \"@\" or i == \"$\" or i == \"_\"):\n",
    "                global specchar\n",
    "                specchar += 1\n",
    "    l = len(s)\n",
    "    if (ucl >= 2 and lcl >= 2 and number >= 1 and specchar >= 3 and l + ucl + lcl + number + specchar >= 10):\n",
    "        print(\"Valid password\")\n",
    "    else:\n",
    "        print(\"Invalid password\")\n",
    "        print(\"Password must contain two uppercase letter,two lowercase letter,one number and three special char and password must be a length of 11....\")\n",
    "\n",
    "s=input(\"Enter the password:\")\n",
    "password(s)"
   ]
  },
  {
   "cell_type": "code",
   "execution_count": null,
   "id": "3d7d00ae-a894-4dbc-9cef-e259175aa6bf",
   "metadata": {},
   "outputs": [],
   "source": [
    "#Q2)- First one\n",
    "a=input(\"enter the name:\").strip()\n",
    "s=list(filter(lambda x: x.startswith(\"R\"),a))\n",
    "if s==\"R\":\n",
    "    print(\"You have started with particular letter...\")\n",
    "else:\n",
    "    print(\"You have not started with particular letter...\")"
   ]
  },
  {
   "cell_type": "code",
   "execution_count": 1,
   "id": "ce78c5d6-a550-4e88-937b-490fc239ee3e",
   "metadata": {},
   "outputs": [
    {
     "name": "stdin",
     "output_type": "stream",
     "text": [
      "enter the name: 123\n"
     ]
    },
    {
     "name": "stdout",
     "output_type": "stream",
     "text": [
      "Is a numeric string\n",
      "None\n"
     ]
    }
   ],
   "source": [
    "#Q2):-Second one\n",
    "a=input(\"enter the name:\").strip()\n",
    "s=lambda x: print(\"Is a numeric string\") if a.isnumeric() else  print(\"Is not numeric\")\n",
    "print(s(a))"
   ]
  },
  {
   "cell_type": "code",
   "execution_count": null,
   "id": "218409f4-47b0-4135-b9ec-6395e0515820",
   "metadata": {},
   "outputs": [],
   "source": [
    "#Q2):-third one\n",
    "s=[(\"mango\",99),(\"orange\",80), (\"grapes\", 1000)]\n",
    "l=sorted(s,key=lambda x: x[1])\n",
    "print(\"Sorted with respective quantity:\",l)\n",
    "l1=sorted(s,key=lambda x: x[0])\n",
    "print(\"Sorted with respective fruit name:\",l1)"
   ]
  },
  {
   "cell_type": "code",
   "execution_count": null,
   "id": "5b0fb4f5-0654-4286-adbb-04f6695b8a8a",
   "metadata": {},
   "outputs": [],
   "source": [
    "#Q2):-fourth one\n",
    "l=[1,2,3,4,5,6,7,8,9,10]\n",
    "s=list(map(lambda x: x**2 ,l))\n",
    "print(s)"
   ]
  },
  {
   "cell_type": "code",
   "execution_count": null,
   "id": "f4f26596-9d18-4b0d-8004-88eb96ce2c56",
   "metadata": {},
   "outputs": [],
   "source": [
    "#Q2):-fifth one\n",
    "l=[1,2,3,4,5,6,7,8,9,10]\n",
    "s=list(map(lambda x: x**(1/3),l))\n",
    "print(s)"
   ]
  },
  {
   "cell_type": "code",
   "execution_count": null,
   "id": "e8873415-c681-4100-a5e3-73051ff315db",
   "metadata": {},
   "outputs": [],
   "source": [
    "#Q2):-sixth one\n",
    "n=int(input(\"Enter the number:\").strip())\n",
    "s= lambda x: print(\"It is even number\") if x%2==0  else print(\"it is not even number\")\n",
    "print(s(n))"
   ]
  },
  {
   "cell_type": "code",
   "execution_count": null,
   "id": "874e1cf0-11ea-4e9f-8500-8fbbf3121f94",
   "metadata": {},
   "outputs": [],
   "source": [
    "#Q2):-seventh one\n",
    "l=[1,2,3,4,5,6,7,8,9,10]\n",
    "s=list(filter(lambda x: x%2==0,l))\n",
    "print(s)"
   ]
  },
  {
   "cell_type": "code",
   "execution_count": null,
   "id": "b108dcbf-8220-41fe-8254-48b18bd3e675",
   "metadata": {},
   "outputs": [],
   "source": [
    "#Q2):-eighth one\n",
    "l=[1,2,3,4,5,6,-1,-2,-3,-4,-5,0]\n",
    "l1=[x for x in l if x>0]\n",
    "print(\"positive list:\",l1)\n",
    "l2=[x for x in l if x<0]\n",
    "print(\"negative list:\",l2)"
   ]
  }
 ],
 "metadata": {
  "kernelspec": {
   "display_name": "Python 3 (ipykernel)",
   "language": "python",
   "name": "python3"
  },
  "language_info": {
   "codemirror_mode": {
    "name": "ipython",
    "version": 3
   },
   "file_extension": ".py",
   "mimetype": "text/x-python",
   "name": "python",
   "nbconvert_exporter": "python",
   "pygments_lexer": "ipython3",
   "version": "3.10.8"
  }
 },
 "nbformat": 4,
 "nbformat_minor": 5
}
